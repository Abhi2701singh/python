{
 "cells": [
  {
   "cell_type": "markdown",
   "id": "8f1ab68e-1876-4423-9103-a156dcf2ee71",
   "metadata": {},
   "source": [
    "# NumPy"
   ]
  },
  {
   "cell_type": "markdown",
   "id": "8ed0bf21-e87c-4457-ba6a-483a714e3b26",
   "metadata": {},
   "source": [
    "\n",
    "**Creating NumPy Arrays**\n",
    "\n",
    "**1-D Array**\n"
   ]
  },
  {
   "cell_type": "code",
   "execution_count": 1,
   "id": "84f88c7e-f21c-4a42-a90e-9c2f401474b1",
   "metadata": {},
   "outputs": [],
   "source": [
    "import numpy as np"
   ]
  },
  {
   "cell_type": "code",
   "execution_count": 2,
   "id": "e075f4a3-cba2-4950-a455-b6c1b39cc6c1",
   "metadata": {},
   "outputs": [],
   "source": [
    "arr = np.array([1,2,3,4,5])"
   ]
  },
  {
   "cell_type": "code",
   "execution_count": 3,
   "id": "a63d4ede-1542-4042-8fe2-7f4df2f84d57",
   "metadata": {},
   "outputs": [
    {
     "data": {
      "text/plain": [
       "array([1, 2, 3, 4, 5])"
      ]
     },
     "execution_count": 3,
     "metadata": {},
     "output_type": "execute_result"
    }
   ],
   "source": [
    "arr"
   ]
  },
  {
   "cell_type": "markdown",
   "id": "3812d13e-3897-4827-9cba-6ae88ec7769f",
   "metadata": {},
   "source": [
    "**2-D Array**"
   ]
  },
  {
   "cell_type": "code",
   "execution_count": 5,
   "id": "465c2f9d-dfe5-4c56-96a4-98dd85f4296f",
   "metadata": {},
   "outputs": [],
   "source": [
    "arr2 = np.array([[1,2,3],[4,5,6]])"
   ]
  },
  {
   "cell_type": "code",
   "execution_count": 6,
   "id": "8e99e3ce-9493-40f3-9ec5-e23d36367385",
   "metadata": {},
   "outputs": [
    {
     "data": {
      "text/plain": [
       "array([[1, 2, 3],\n",
       "       [4, 5, 6]])"
      ]
     },
     "execution_count": 6,
     "metadata": {},
     "output_type": "execute_result"
    }
   ],
   "source": [
    "arr2"
   ]
  },
  {
   "cell_type": "markdown",
   "id": "0cea3a0a-40d6-4510-addb-4ffe53e81320",
   "metadata": {},
   "source": [
    "**3-D Array**"
   ]
  },
  {
   "cell_type": "code",
   "execution_count": 7,
   "id": "d5222064-d6e6-471b-86a1-896334ffd5c1",
   "metadata": {},
   "outputs": [],
   "source": [
    "arr3 = np.array([[[1,2],[3,4]],[[5,6],[7,8]]])"
   ]
  },
  {
   "cell_type": "code",
   "execution_count": 8,
   "id": "c0484358-374c-402f-9c06-55ac377e4089",
   "metadata": {},
   "outputs": [
    {
     "data": {
      "text/plain": [
       "array([[[1, 2],\n",
       "        [3, 4]],\n",
       "\n",
       "       [[5, 6],\n",
       "        [7, 8]]])"
      ]
     },
     "execution_count": 8,
     "metadata": {},
     "output_type": "execute_result"
    }
   ],
   "source": [
    "arr3"
   ]
  },
  {
   "cell_type": "markdown",
   "id": "2982d84d-04e5-4a9e-955f-dc9a98b329eb",
   "metadata": {},
   "source": [
    "# Checking array properties"
   ]
  },
  {
   "cell_type": "markdown",
   "id": "1d913adc-0ba4-4224-9686-f9110a569d55",
   "metadata": {},
   "source": [
    "**arr.ndim  -> no. of dimension**"
   ]
  },
  {
   "cell_type": "code",
   "execution_count": 9,
   "id": "f40fa721-7ce6-4426-a279-ed7ae771edd9",
   "metadata": {},
   "outputs": [
    {
     "data": {
      "text/plain": [
       "3"
      ]
     },
     "execution_count": 9,
     "metadata": {},
     "output_type": "execute_result"
    }
   ],
   "source": [
    "arr3.ndim"
   ]
  },
  {
   "cell_type": "code",
   "execution_count": 10,
   "id": "87838710-e94d-48da-b4dd-b00516830c16",
   "metadata": {},
   "outputs": [
    {
     "data": {
      "text/plain": [
       "2"
      ]
     },
     "execution_count": 10,
     "metadata": {},
     "output_type": "execute_result"
    }
   ],
   "source": [
    "arr2.ndim"
   ]
  },
  {
   "cell_type": "code",
   "execution_count": 11,
   "id": "6e3a4cb1-6c5b-4af0-bc8a-4d31481f23c2",
   "metadata": {},
   "outputs": [
    {
     "data": {
      "text/plain": [
       "1"
      ]
     },
     "execution_count": 11,
     "metadata": {},
     "output_type": "execute_result"
    }
   ],
   "source": [
    "arr.ndim"
   ]
  },
  {
   "cell_type": "markdown",
   "id": "bfe5e757-0ce2-4a07-b252-64efeba80ffc",
   "metadata": {},
   "source": [
    "**arr.shape  -> shape of arr (row, col)**"
   ]
  },
  {
   "cell_type": "code",
   "execution_count": 12,
   "id": "fa082d82-91ac-4df1-8e99-3014cd936cd7",
   "metadata": {},
   "outputs": [
    {
     "data": {
      "text/plain": [
       "(2, 2, 2)"
      ]
     },
     "execution_count": 12,
     "metadata": {},
     "output_type": "execute_result"
    }
   ],
   "source": [
    "arr3.shape"
   ]
  },
  {
   "cell_type": "code",
   "execution_count": 13,
   "id": "57b34b57-c678-40d2-a45d-c6cffc693e5d",
   "metadata": {},
   "outputs": [
    {
     "data": {
      "text/plain": [
       "(2, 3)"
      ]
     },
     "execution_count": 13,
     "metadata": {},
     "output_type": "execute_result"
    }
   ],
   "source": [
    "arr2.shape"
   ]
  },
  {
   "cell_type": "code",
   "execution_count": 14,
   "id": "f462ded1-e4bb-4d24-bd5e-78575c005908",
   "metadata": {},
   "outputs": [
    {
     "data": {
      "text/plain": [
       "(5,)"
      ]
     },
     "execution_count": 14,
     "metadata": {},
     "output_type": "execute_result"
    }
   ],
   "source": [
    "arr.shape"
   ]
  },
  {
   "cell_type": "markdown",
   "id": "b1e30bcd-baec-4dea-a56d-a77a0140a4e4",
   "metadata": {},
   "source": [
    "**arr.size  -> total no of element**"
   ]
  },
  {
   "cell_type": "code",
   "execution_count": 15,
   "id": "cd52b9c9-2c4a-4a21-929d-9edc649aa38d",
   "metadata": {},
   "outputs": [
    {
     "data": {
      "text/plain": [
       "8"
      ]
     },
     "execution_count": 15,
     "metadata": {},
     "output_type": "execute_result"
    }
   ],
   "source": [
    "arr3.size"
   ]
  },
  {
   "cell_type": "code",
   "execution_count": 16,
   "id": "f8df8f3a-75c6-4353-b0e7-7607c67125ba",
   "metadata": {},
   "outputs": [
    {
     "data": {
      "text/plain": [
       "6"
      ]
     },
     "execution_count": 16,
     "metadata": {},
     "output_type": "execute_result"
    }
   ],
   "source": [
    "arr2.size"
   ]
  },
  {
   "cell_type": "code",
   "execution_count": 17,
   "id": "7624a206-1831-47b7-9b66-c6be03b32dd7",
   "metadata": {},
   "outputs": [
    {
     "data": {
      "text/plain": [
       "5"
      ]
     },
     "execution_count": 17,
     "metadata": {},
     "output_type": "execute_result"
    }
   ],
   "source": [
    "arr.size"
   ]
  },
  {
   "cell_type": "markdown",
   "id": "82623e50-2dab-4025-8b53-c2c522e18b43",
   "metadata": {},
   "source": [
    "**arr.dtype -> data type of element**"
   ]
  },
  {
   "cell_type": "code",
   "execution_count": 19,
   "id": "3fdb8361-1d60-459b-9917-53d5a2b89eef",
   "metadata": {},
   "outputs": [
    {
     "data": {
      "text/plain": [
       "dtype('int32')"
      ]
     },
     "execution_count": 19,
     "metadata": {},
     "output_type": "execute_result"
    }
   ],
   "source": [
    "arr3.dtype"
   ]
  },
  {
   "cell_type": "code",
   "execution_count": 20,
   "id": "f723ba39-a140-4de5-b9b6-4f65c990f89a",
   "metadata": {},
   "outputs": [
    {
     "data": {
      "text/plain": [
       "dtype('int32')"
      ]
     },
     "execution_count": 20,
     "metadata": {},
     "output_type": "execute_result"
    }
   ],
   "source": [
    "arr.dtype"
   ]
  },
  {
   "cell_type": "code",
   "execution_count": 21,
   "id": "b47d7967-415e-49bc-8435-1b2bb8ca4ec9",
   "metadata": {},
   "outputs": [
    {
     "data": {
      "text/plain": [
       "dtype('int32')"
      ]
     },
     "execution_count": 21,
     "metadata": {},
     "output_type": "execute_result"
    }
   ],
   "source": [
    "arr2.dtype"
   ]
  },
  {
   "cell_type": "markdown",
   "id": "e63673ce-7f95-4efc-ba57-1dcaa1831045",
   "metadata": {},
   "source": [
    "# creating special array"
   ]
  },
  {
   "cell_type": "markdown",
   "id": "69d8b364-ffdc-43b6-8e4a-3d7294754036",
   "metadata": {},
   "source": [
    "**Zeros and Ones**"
   ]
  },
  {
   "cell_type": "code",
   "execution_count": 22,
   "id": "455ffec0-815c-4bcd-80f8-17e5ab09b6b1",
   "metadata": {},
   "outputs": [
    {
     "data": {
      "text/plain": [
       "array([[0., 0., 0.],\n",
       "       [0., 0., 0.],\n",
       "       [0., 0., 0.]])"
      ]
     },
     "execution_count": 22,
     "metadata": {},
     "output_type": "execute_result"
    }
   ],
   "source": [
    "np.zeros((3,3))"
   ]
  },
  {
   "cell_type": "code",
   "execution_count": 23,
   "id": "2aae51d9-930e-44bf-abfb-a12842b0a61a",
   "metadata": {},
   "outputs": [
    {
     "data": {
      "text/plain": [
       "array([[1., 1., 1., 1.],\n",
       "       [1., 1., 1., 1.],\n",
       "       [1., 1., 1., 1.]])"
      ]
     },
     "execution_count": 23,
     "metadata": {},
     "output_type": "execute_result"
    }
   ],
   "source": [
    "np.ones((3,4))"
   ]
  },
  {
   "cell_type": "markdown",
   "id": "9c1a3769-26e1-4d4e-a37c-eba6dda964d7",
   "metadata": {},
   "source": [
    "**Identity Matrix**"
   ]
  },
  {
   "cell_type": "code",
   "execution_count": 24,
   "id": "5da3f3b8-d747-46e5-b6f5-63875900b3df",
   "metadata": {},
   "outputs": [
    {
     "data": {
      "text/plain": [
       "array([[1., 0., 0.],\n",
       "       [0., 1., 0.],\n",
       "       [0., 0., 1.]])"
      ]
     },
     "execution_count": 24,
     "metadata": {},
     "output_type": "execute_result"
    }
   ],
   "source": [
    "np.eye(3)"
   ]
  },
  {
   "cell_type": "code",
   "execution_count": 25,
   "id": "2afd3891-d8a5-4403-bd08-0ff614628962",
   "metadata": {},
   "outputs": [
    {
     "data": {
      "text/plain": [
       "array([[1., 0., 0., 0., 0., 0.],\n",
       "       [0., 1., 0., 0., 0., 0.],\n",
       "       [0., 0., 1., 0., 0., 0.],\n",
       "       [0., 0., 0., 1., 0., 0.],\n",
       "       [0., 0., 0., 0., 1., 0.],\n",
       "       [0., 0., 0., 0., 0., 1.]])"
      ]
     },
     "execution_count": 25,
     "metadata": {},
     "output_type": "execute_result"
    }
   ],
   "source": [
    "np.eye(6)"
   ]
  },
  {
   "cell_type": "markdown",
   "id": "9bf6927a-76b4-4281-babc-5e82cc4c92f1",
   "metadata": {},
   "source": [
    "**Arange ( start, stop, step)**"
   ]
  },
  {
   "cell_type": "code",
   "execution_count": 26,
   "id": "bb45e5d2-0319-4908-bc09-df17037c3c87",
   "metadata": {},
   "outputs": [
    {
     "data": {
      "text/plain": [
       "array([1, 3, 5, 7, 9])"
      ]
     },
     "execution_count": 26,
     "metadata": {},
     "output_type": "execute_result"
    }
   ],
   "source": [
    "np.arange(1,10,2)"
   ]
  },
  {
   "cell_type": "code",
   "execution_count": 27,
   "id": "7de9fe37-ad67-46a5-9e9a-61b6e24689fd",
   "metadata": {},
   "outputs": [
    {
     "data": {
      "text/plain": [
       "array([ 0,  5, 10, 15, 20, 25, 30, 35, 40, 45])"
      ]
     },
     "execution_count": 27,
     "metadata": {},
     "output_type": "execute_result"
    }
   ],
   "source": [
    "np.arange(0,50,5)"
   ]
  },
  {
   "cell_type": "markdown",
   "id": "e4cedc63-96a5-4f70-944f-2baf28c2af25",
   "metadata": {},
   "source": [
    "**Linspace  (start, stop, num_points)**"
   ]
  },
  {
   "cell_type": "code",
   "execution_count": 28,
   "id": "53fe4c43-a9f1-4173-8fcc-2150da31bc89",
   "metadata": {},
   "outputs": [
    {
     "data": {
      "text/plain": [
       "array([0.        , 0.28571429, 0.57142857, 0.85714286, 1.14285714,\n",
       "       1.42857143, 1.71428571, 2.        , 2.28571429, 2.57142857,\n",
       "       2.85714286, 3.14285714, 3.42857143, 3.71428571, 4.        ])"
      ]
     },
     "execution_count": 28,
     "metadata": {},
     "output_type": "execute_result"
    }
   ],
   "source": [
    "np.linspace(0,4,15)"
   ]
  },
  {
   "cell_type": "code",
   "execution_count": 30,
   "id": "70929491-1e42-4646-a0a2-3a978a934730",
   "metadata": {},
   "outputs": [
    {
     "data": {
      "text/plain": [
       "array([1., 2., 3., 4.])"
      ]
     },
     "execution_count": 30,
     "metadata": {},
     "output_type": "execute_result"
    }
   ],
   "source": [
    "np.linspace(1,4,4)"
   ]
  },
  {
   "cell_type": "code",
   "execution_count": 31,
   "id": "486068f4-981d-497c-ac1d-9a8c4a51b4b8",
   "metadata": {},
   "outputs": [
    {
     "data": {
      "text/plain": [
       "array([0.        , 0.11111111, 0.22222222, 0.33333333, 0.44444444,\n",
       "       0.55555556, 0.66666667, 0.77777778, 0.88888889, 1.        ])"
      ]
     },
     "execution_count": 31,
     "metadata": {},
     "output_type": "execute_result"
    }
   ],
   "source": [
    "np.linspace(0,1,10)"
   ]
  },
  {
   "cell_type": "markdown",
   "id": "d385bf38-8133-4cd4-9fc7-455e4cf2e0cb",
   "metadata": {},
   "source": [
    "**Random Array**\n"
   ]
  },
  {
   "cell_type": "code",
   "execution_count": 32,
   "id": "bf6db76b-e874-4c3c-aa72-fc70f6ebabd5",
   "metadata": {},
   "outputs": [
    {
     "data": {
      "text/plain": [
       "array([[0.96698947, 0.98228211, 0.44636702],\n",
       "       [0.72411788, 0.52934446, 0.33114306],\n",
       "       [0.46610391, 0.31853419, 0.93772108]])"
      ]
     },
     "execution_count": 32,
     "metadata": {},
     "output_type": "execute_result"
    }
   ],
   "source": [
    "np.random.rand(3,3)"
   ]
  },
  {
   "cell_type": "code",
   "execution_count": 33,
   "id": "1aea6fc0-97fa-4620-93fb-9bd1af966f25",
   "metadata": {},
   "outputs": [
    {
     "data": {
      "text/plain": [
       "array([[ 1.16090756,  0.502289  ,  1.55403696],\n",
       "       [ 2.15188283, -0.27004911,  0.16024928],\n",
       "       [-0.42101639,  0.10985645, -1.41612843]])"
      ]
     },
     "execution_count": 33,
     "metadata": {},
     "output_type": "execute_result"
    }
   ],
   "source": [
    "np.random.randn(3,3)"
   ]
  },
  {
   "cell_type": "code",
   "execution_count": 35,
   "id": "42279880-5b8d-46dc-b104-f526c8a797c6",
   "metadata": {},
   "outputs": [
    {
     "data": {
      "text/plain": [
       "array([[71, 89, 84],\n",
       "       [11, 52, 30]])"
      ]
     },
     "execution_count": 35,
     "metadata": {},
     "output_type": "execute_result"
    }
   ],
   "source": [
    "np.random.randint(1,100,(2,3))"
   ]
  },
  {
   "cell_type": "markdown",
   "id": "07c3b7f4-4543-4500-89e3-159d40c61131",
   "metadata": {},
   "source": [
    "# Mathematical Functions"
   ]
  },
  {
   "cell_type": "markdown",
   "id": "42a97357-1d5c-4a55-abe5-75970672b703",
   "metadata": {},
   "source": [
    "**sqrt() square root**"
   ]
  },
  {
   "cell_type": "code",
   "execution_count": 38,
   "id": "a27b8096-2628-4e2e-8759-c246bf296cfc",
   "metadata": {},
   "outputs": [],
   "source": [
    "x= np.array([2,3,4,5,6])"
   ]
  },
  {
   "cell_type": "code",
   "execution_count": 39,
   "id": "04aa0c4d-73d0-480b-913a-36097f53f303",
   "metadata": {},
   "outputs": [
    {
     "data": {
      "text/plain": [
       "array([2, 3, 4, 5, 6])"
      ]
     },
     "execution_count": 39,
     "metadata": {},
     "output_type": "execute_result"
    }
   ],
   "source": [
    "x"
   ]
  },
  {
   "cell_type": "code",
   "execution_count": 40,
   "id": "00fff590-edb2-4926-bc9b-e4d692060505",
   "metadata": {},
   "outputs": [
    {
     "data": {
      "text/plain": [
       "array([1.41421356, 1.73205081, 2.        , 2.23606798, 2.44948974])"
      ]
     },
     "execution_count": 40,
     "metadata": {},
     "output_type": "execute_result"
    }
   ],
   "source": [
    "np.sqrt(x)"
   ]
  },
  {
   "cell_type": "markdown",
   "id": "72028957-3119-477e-a46e-cfbc9286629c",
   "metadata": {},
   "source": [
    "**exp() exponential**"
   ]
  },
  {
   "cell_type": "code",
   "execution_count": 41,
   "id": "94061043-0a9c-440d-a689-5c28719fd6b2",
   "metadata": {},
   "outputs": [
    {
     "data": {
      "text/plain": [
       "array([  7.3890561 ,  20.08553692,  54.59815003, 148.4131591 ,\n",
       "       403.42879349])"
      ]
     },
     "execution_count": 41,
     "metadata": {},
     "output_type": "execute_result"
    }
   ],
   "source": [
    "np.exp(x)"
   ]
  },
  {
   "cell_type": "markdown",
   "id": "39efcbb3-52fe-4f08-9ce5-333f9f0e87bf",
   "metadata": {},
   "source": [
    "**log() logarithm**"
   ]
  },
  {
   "cell_type": "code",
   "execution_count": 42,
   "id": "5f00e3a5-f8f1-48a1-9e0b-a504b3673325",
   "metadata": {},
   "outputs": [
    {
     "data": {
      "text/plain": [
       "array([0.69314718, 1.09861229, 1.38629436, 1.60943791, 1.79175947])"
      ]
     },
     "execution_count": 42,
     "metadata": {},
     "output_type": "execute_result"
    }
   ],
   "source": [
    "np.log(x)"
   ]
  },
  {
   "cell_type": "markdown",
   "id": "5bc496d6-6a45-4ed8-a8cd-e81053e1043d",
   "metadata": {},
   "source": [
    "**sin() sine**"
   ]
  },
  {
   "cell_type": "code",
   "execution_count": 43,
   "id": "dfdee161-2d56-4d11-96a3-e05008f396c0",
   "metadata": {},
   "outputs": [
    {
     "data": {
      "text/plain": [
       "array([ 0.90929743,  0.14112001, -0.7568025 , -0.95892427, -0.2794155 ])"
      ]
     },
     "execution_count": 43,
     "metadata": {},
     "output_type": "execute_result"
    }
   ],
   "source": [
    "np.sin(x)"
   ]
  },
  {
   "cell_type": "markdown",
   "id": "60b0608b-2245-47c6-bc07-665eaea2e05d",
   "metadata": {},
   "source": [
    "# Aggregation Function"
   ]
  },
  {
   "cell_type": "markdown",
   "id": "9b4a3566-d851-48ce-9974-8b9af1ce39c3",
   "metadata": {},
   "source": [
    "**sum() - sum of elements**"
   ]
  },
  {
   "cell_type": "code",
   "execution_count": 44,
   "id": "6202120e-7033-4e40-b31d-24277c24871d",
   "metadata": {},
   "outputs": [
    {
     "data": {
      "text/plain": [
       "20"
      ]
     },
     "execution_count": 44,
     "metadata": {},
     "output_type": "execute_result"
    }
   ],
   "source": [
    "np.sum(x)"
   ]
  },
  {
   "cell_type": "markdown",
   "id": "07b7f52b-6673-486c-b9b4-b4fdb56ec4a3",
   "metadata": {},
   "source": [
    "**mean() - mean of elements**"
   ]
  },
  {
   "cell_type": "code",
   "execution_count": 45,
   "id": "58edd002-ea22-408e-9d20-0971a26f5eaa",
   "metadata": {},
   "outputs": [
    {
     "data": {
      "text/plain": [
       "4.0"
      ]
     },
     "execution_count": 45,
     "metadata": {},
     "output_type": "execute_result"
    }
   ],
   "source": [
    "np.mean(x)"
   ]
  },
  {
   "cell_type": "markdown",
   "id": "30a89337-624c-460a-9c81-54630ff1b6e1",
   "metadata": {},
   "source": [
    "**median() - median of elements**"
   ]
  },
  {
   "cell_type": "code",
   "execution_count": 46,
   "id": "59955f3d-54c6-4e3d-a70b-173ab176f5d5",
   "metadata": {},
   "outputs": [
    {
     "data": {
      "text/plain": [
       "4.0"
      ]
     },
     "execution_count": 46,
     "metadata": {},
     "output_type": "execute_result"
    }
   ],
   "source": [
    "np.median(x)"
   ]
  },
  {
   "cell_type": "markdown",
   "id": "bf9e6c5a-a723-44b0-87bc-9739d5cc88b0",
   "metadata": {},
   "source": [
    "**std() - standard deviation**"
   ]
  },
  {
   "cell_type": "code",
   "execution_count": 47,
   "id": "8b133838-08b8-4488-be07-439a398b6e75",
   "metadata": {},
   "outputs": [
    {
     "data": {
      "text/plain": [
       "1.4142135623730951"
      ]
     },
     "execution_count": 47,
     "metadata": {},
     "output_type": "execute_result"
    }
   ],
   "source": [
    "np.std(x)"
   ]
  },
  {
   "cell_type": "markdown",
   "id": "ac421128-ede3-49e6-a8b9-b3163bf80bc8",
   "metadata": {},
   "source": [
    "**max() and min() - find max and min value of elements**"
   ]
  },
  {
   "cell_type": "code",
   "execution_count": 48,
   "id": "13f72d87-2ac6-41cd-ba12-4852e65947ae",
   "metadata": {},
   "outputs": [
    {
     "data": {
      "text/plain": [
       "6"
      ]
     },
     "execution_count": 48,
     "metadata": {},
     "output_type": "execute_result"
    }
   ],
   "source": [
    "np.max(x)"
   ]
  },
  {
   "cell_type": "code",
   "execution_count": 49,
   "id": "e0aa7cdc-4089-4c6c-b8e3-1897e0b834fd",
   "metadata": {},
   "outputs": [
    {
     "data": {
      "text/plain": [
       "2"
      ]
     },
     "execution_count": 49,
     "metadata": {},
     "output_type": "execute_result"
    }
   ],
   "source": [
    "np.min(x)"
   ]
  },
  {
   "cell_type": "markdown",
   "id": "5cbb10b3-d4ce-444e-828a-3d4ec7843701",
   "metadata": {},
   "source": [
    "# Reshaping & Manipulating Arrays\n",
    "**Reshape**"
   ]
  },
  {
   "cell_type": "code",
   "execution_count": 50,
   "id": "27df32e2-c588-416e-aa90-10c63a12c14f",
   "metadata": {},
   "outputs": [],
   "source": [
    "arr = np.arange(1,10).reshape(3,3)"
   ]
  },
  {
   "cell_type": "code",
   "execution_count": 51,
   "id": "de8e7302-fe53-4364-95ea-10ba154ebf65",
   "metadata": {},
   "outputs": [
    {
     "data": {
      "text/plain": [
       "array([[1, 2, 3],\n",
       "       [4, 5, 6],\n",
       "       [7, 8, 9]])"
      ]
     },
     "execution_count": 51,
     "metadata": {},
     "output_type": "execute_result"
    }
   ],
   "source": [
    "arr"
   ]
  },
  {
   "cell_type": "markdown",
   "id": "263ae6bd-7af2-4d3b-a060-e9593242a171",
   "metadata": {},
   "source": [
    "**Flatten**"
   ]
  },
  {
   "cell_type": "code",
   "execution_count": 53,
   "id": "76e15fcd-f4e5-4f1b-bc21-d082cda4f874",
   "metadata": {},
   "outputs": [
    {
     "data": {
      "text/plain": [
       "array([1, 2, 3, 4, 5, 6, 7, 8, 9])"
      ]
     },
     "execution_count": 53,
     "metadata": {},
     "output_type": "execute_result"
    }
   ],
   "source": [
    "arr.flatten()"
   ]
  },
  {
   "cell_type": "markdown",
   "id": "0a5a4bc9-9b49-4b42-b0a7-412af7f604a5",
   "metadata": {},
   "source": [
    "**Stacking**"
   ]
  },
  {
   "cell_type": "code",
   "execution_count": 55,
   "id": "735d4aba-23ab-46d1-91ae-21165ac47113",
   "metadata": {},
   "outputs": [],
   "source": [
    "a=np.array([1,2,3,4,5])\n",
    "b=np.array([6,7,8,9,10])\n",
    "\n"
   ]
  },
  {
   "cell_type": "code",
   "execution_count": 56,
   "id": "b659e078-4c0c-480b-8c00-9c5472d1faf6",
   "metadata": {},
   "outputs": [
    {
     "data": {
      "text/plain": [
       "array([ 1,  2,  3,  4,  5,  6,  7,  8,  9, 10])"
      ]
     },
     "execution_count": 56,
     "metadata": {},
     "output_type": "execute_result"
    }
   ],
   "source": [
    "np.hstack([a, b])  # horizontal stack"
   ]
  },
  {
   "cell_type": "code",
   "execution_count": 57,
   "id": "a0d8dfc2-6acd-4440-8c06-9e65f0b139b3",
   "metadata": {},
   "outputs": [
    {
     "data": {
      "text/plain": [
       "array([[ 1,  2,  3,  4,  5],\n",
       "       [ 6,  7,  8,  9, 10]])"
      ]
     },
     "execution_count": 57,
     "metadata": {},
     "output_type": "execute_result"
    }
   ],
   "source": [
    "np.vstack([a, b])  # Vertical stack"
   ]
  },
  {
   "cell_type": "markdown",
   "id": "10872e37-761d-4951-ae91-6e398ab1dac0",
   "metadata": {},
   "source": [
    "**Transpose**"
   ]
  },
  {
   "cell_type": "code",
   "execution_count": 63,
   "id": "3018f2e2-fe6a-4bef-ab12-f5c1b46a861c",
   "metadata": {},
   "outputs": [
    {
     "data": {
      "text/plain": [
       "array([[1, 2, 3],\n",
       "       [4, 5, 6],\n",
       "       [7, 8, 9]])"
      ]
     },
     "execution_count": 63,
     "metadata": {},
     "output_type": "execute_result"
    }
   ],
   "source": [
    "arr"
   ]
  },
  {
   "cell_type": "code",
   "execution_count": 64,
   "id": "6c559dcc-e212-4e57-a6db-db3fd3e96e3f",
   "metadata": {},
   "outputs": [
    {
     "data": {
      "text/plain": [
       "array([[1, 4, 7],\n",
       "       [2, 5, 8],\n",
       "       [3, 6, 9]])"
      ]
     },
     "execution_count": 64,
     "metadata": {},
     "output_type": "execute_result"
    }
   ],
   "source": [
    "arr.T"
   ]
  },
  {
   "cell_type": "markdown",
   "id": "13014476-0293-4021-9a1e-67ba6c599967",
   "metadata": {},
   "source": [
    "# Copying & Views"
   ]
  },
  {
   "cell_type": "markdown",
   "id": "83ac4fcd-486b-4699-bd0d-1ed9a305a063",
   "metadata": {},
   "source": [
    "**copy()**"
   ]
  },
  {
   "cell_type": "code",
   "execution_count": 65,
   "id": "223337aa-1c57-448e-ac7b-bed7dbb39bc1",
   "metadata": {},
   "outputs": [],
   "source": [
    "arr = np.array([1, 2, 3])\n",
    "copy_arr = arr.copy() "
   ]
  },
  {
   "cell_type": "code",
   "execution_count": 66,
   "id": "c41feb45-0c63-4a62-92b1-5b0539befe40",
   "metadata": {},
   "outputs": [
    {
     "data": {
      "text/plain": [
       "array([1, 2, 3])"
      ]
     },
     "execution_count": 66,
     "metadata": {},
     "output_type": "execute_result"
    }
   ],
   "source": [
    "copy_arr"
   ]
  },
  {
   "cell_type": "markdown",
   "id": "db528ba6-6a18-4938-9ef4-806d1d79665c",
   "metadata": {},
   "source": [
    "**view()**"
   ]
  },
  {
   "cell_type": "code",
   "execution_count": 67,
   "id": "d174c5a4-6c82-45a5-921a-4ef688b113eb",
   "metadata": {},
   "outputs": [],
   "source": [
    "rr = np.array([1, 2, 3])\n",
    "view_arr = arr.view()"
   ]
  },
  {
   "cell_type": "code",
   "execution_count": 68,
   "id": "7be0368b-8371-484d-93b7-e3a5762f3ce6",
   "metadata": {},
   "outputs": [
    {
     "data": {
      "text/plain": [
       "array([1, 2, 3])"
      ]
     },
     "execution_count": 68,
     "metadata": {},
     "output_type": "execute_result"
    }
   ],
   "source": [
    "view_arr"
   ]
  },
  {
   "cell_type": "markdown",
   "id": "0b5a1a3d-9e51-40d1-8669-d084f8b944aa",
   "metadata": {},
   "source": [
    "# Saving & Loading Data\n"
   ]
  },
  {
   "cell_type": "markdown",
   "id": "280a037e-12f2-4974-8750-6f695f51282d",
   "metadata": {},
   "source": [
    "**Save NumPy Arrays**"
   ]
  },
  {
   "cell_type": "code",
   "execution_count": 69,
   "id": "15b5f61a-bbe2-4b88-a737-8489f655baa7",
   "metadata": {},
   "outputs": [],
   "source": [
    "np.save('array.npy', arr)  # save as .npy\n",
    "np.savetxt('array.txt', arr, delimiter=',')  # Save as text"
   ]
  },
  {
   "cell_type": "markdown",
   "id": "cf7a5d05-617b-48eb-a3ad-33f4775179f0",
   "metadata": {},
   "source": [
    "**Loading NumPy Arrays**"
   ]
  },
  {
   "cell_type": "code",
   "execution_count": 70,
   "id": "9f1b95da-777d-4a21-8eb1-553376201760",
   "metadata": {},
   "outputs": [
    {
     "data": {
      "text/plain": [
       "array([1., 2., 3.])"
      ]
     },
     "execution_count": 70,
     "metadata": {},
     "output_type": "execute_result"
    }
   ],
   "source": [
    "np.load('array.npy')  # Load .npy file\n",
    "np.loadtxt('array.txt', delimiter=',')  # Load text file\n"
   ]
  },
  {
   "cell_type": "markdown",
   "id": "729b3ad8-4537-446d-bf29-f13fd04cb91e",
   "metadata": {},
   "source": [
    "**Use np.where() for condition-based indexing**"
   ]
  },
  {
   "cell_type": "code",
   "execution_count": 74,
   "id": "9822431a-0ce0-41dc-a94f-185bd8572325",
   "metadata": {},
   "outputs": [
    {
     "data": {
      "text/plain": [
       "array(['less', 'less', 'more', 'more'], dtype='<U4')"
      ]
     },
     "execution_count": 74,
     "metadata": {},
     "output_type": "execute_result"
    }
   ],
   "source": [
    "arr = np.array([10, 20, 30, 40])\n",
    "np.where(arr > 20, \"more\", \"less\")\n"
   ]
  },
  {
   "cell_type": "markdown",
   "id": "ea029a11-347b-456d-bbde-441aec1dd131",
   "metadata": {},
   "source": [
    "# Thank You "
   ]
  },
  {
   "cell_type": "code",
   "execution_count": null,
   "id": "8b7f1e0f-9b93-46bc-a047-b517cec52f47",
   "metadata": {},
   "outputs": [],
   "source": []
  }
 ],
 "metadata": {
  "kernelspec": {
   "display_name": "Python 3 (ipykernel)",
   "language": "python",
   "name": "python3"
  },
  "language_info": {
   "codemirror_mode": {
    "name": "ipython",
    "version": 3
   },
   "file_extension": ".py",
   "mimetype": "text/x-python",
   "name": "python",
   "nbconvert_exporter": "python",
   "pygments_lexer": "ipython3",
   "version": "3.12.3"
  }
 },
 "nbformat": 4,
 "nbformat_minor": 5
}
