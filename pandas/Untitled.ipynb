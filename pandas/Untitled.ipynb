{
 "cells": [
  {
   "cell_type": "code",
   "execution_count": 1,
   "id": "3a2ac1e1-f5b7-43a9-a7a7-e45cd17ff4dd",
   "metadata": {},
   "outputs": [],
   "source": [
    "import numpy as np\n",
    "import pandas as pd"
   ]
  },
  {
   "cell_type": "code",
   "execution_count": 2,
   "id": "27cbae8a-86e4-4b43-8ce9-d1923bda4a47",
   "metadata": {},
   "outputs": [],
   "source": [
    "dict1 = {\n",
    "    \"name\":['abhinav','amol','abhishek','anurag'],\n",
    "    \"marks\":[87,78,98,67],\n",
    "    \"city\":['gkp','kushinagr','fazilnagar','prayagraj']\n",
    "}"
   ]
  },
  {
   "cell_type": "code",
   "execution_count": 3,
   "id": "38fe9669-bf4a-45ef-a03c-cbfdf017a73a",
   "metadata": {},
   "outputs": [],
   "source": [
    "df = pd.DataFrame(dict1)"
   ]
  },
  {
   "cell_type": "code",
   "execution_count": 4,
   "id": "f282867c-7d68-4474-8af9-7cd71f09b801",
   "metadata": {},
   "outputs": [
    {
     "data": {
      "text/html": [
       "<div>\n",
       "<style scoped>\n",
       "    .dataframe tbody tr th:only-of-type {\n",
       "        vertical-align: middle;\n",
       "    }\n",
       "\n",
       "    .dataframe tbody tr th {\n",
       "        vertical-align: top;\n",
       "    }\n",
       "\n",
       "    .dataframe thead th {\n",
       "        text-align: right;\n",
       "    }\n",
       "</style>\n",
       "<table border=\"1\" class=\"dataframe\">\n",
       "  <thead>\n",
       "    <tr style=\"text-align: right;\">\n",
       "      <th></th>\n",
       "      <th>name</th>\n",
       "      <th>marks</th>\n",
       "      <th>city</th>\n",
       "    </tr>\n",
       "  </thead>\n",
       "  <tbody>\n",
       "    <tr>\n",
       "      <th>0</th>\n",
       "      <td>abhinav</td>\n",
       "      <td>87</td>\n",
       "      <td>gkp</td>\n",
       "    </tr>\n",
       "    <tr>\n",
       "      <th>1</th>\n",
       "      <td>amol</td>\n",
       "      <td>78</td>\n",
       "      <td>kushinagr</td>\n",
       "    </tr>\n",
       "    <tr>\n",
       "      <th>2</th>\n",
       "      <td>abhishek</td>\n",
       "      <td>98</td>\n",
       "      <td>fazilnagar</td>\n",
       "    </tr>\n",
       "    <tr>\n",
       "      <th>3</th>\n",
       "      <td>anurag</td>\n",
       "      <td>67</td>\n",
       "      <td>prayagraj</td>\n",
       "    </tr>\n",
       "  </tbody>\n",
       "</table>\n",
       "</div>"
      ],
      "text/plain": [
       "       name  marks        city\n",
       "0   abhinav     87         gkp\n",
       "1      amol     78   kushinagr\n",
       "2  abhishek     98  fazilnagar\n",
       "3    anurag     67   prayagraj"
      ]
     },
     "execution_count": 4,
     "metadata": {},
     "output_type": "execute_result"
    }
   ],
   "source": [
    "df"
   ]
  },
  {
   "cell_type": "code",
   "execution_count": 5,
   "id": "aef9d79d-99fb-497e-affe-1cb1e7085efa",
   "metadata": {},
   "outputs": [],
   "source": [
    "df.to_csv('frnd.csv')"
   ]
  },
  {
   "cell_type": "code",
   "execution_count": 6,
   "id": "bb01af51-4b10-4da4-8eaa-3ee8027aa196",
   "metadata": {},
   "outputs": [],
   "source": [
    "df.to_csv('frnd_index_false.csv',index=False)"
   ]
  },
  {
   "cell_type": "code",
   "execution_count": 7,
   "id": "6ec7a1d2-5e0a-41a0-b96d-34f9d86656d2",
   "metadata": {},
   "outputs": [
    {
     "data": {
      "text/html": [
       "<div>\n",
       "<style scoped>\n",
       "    .dataframe tbody tr th:only-of-type {\n",
       "        vertical-align: middle;\n",
       "    }\n",
       "\n",
       "    .dataframe tbody tr th {\n",
       "        vertical-align: top;\n",
       "    }\n",
       "\n",
       "    .dataframe thead th {\n",
       "        text-align: right;\n",
       "    }\n",
       "</style>\n",
       "<table border=\"1\" class=\"dataframe\">\n",
       "  <thead>\n",
       "    <tr style=\"text-align: right;\">\n",
       "      <th></th>\n",
       "      <th>name</th>\n",
       "      <th>marks</th>\n",
       "      <th>city</th>\n",
       "    </tr>\n",
       "  </thead>\n",
       "  <tbody>\n",
       "    <tr>\n",
       "      <th>0</th>\n",
       "      <td>abhinav</td>\n",
       "      <td>87</td>\n",
       "      <td>gkp</td>\n",
       "    </tr>\n",
       "    <tr>\n",
       "      <th>1</th>\n",
       "      <td>amol</td>\n",
       "      <td>78</td>\n",
       "      <td>kushinagr</td>\n",
       "    </tr>\n",
       "  </tbody>\n",
       "</table>\n",
       "</div>"
      ],
      "text/plain": [
       "      name  marks       city\n",
       "0  abhinav     87        gkp\n",
       "1     amol     78  kushinagr"
      ]
     },
     "execution_count": 7,
     "metadata": {},
     "output_type": "execute_result"
    }
   ],
   "source": [
    "df.head(2)"
   ]
  },
  {
   "cell_type": "code",
   "execution_count": 8,
   "id": "f2e2d057-9b24-4edf-aa13-2a663323ae03",
   "metadata": {},
   "outputs": [
    {
     "data": {
      "text/html": [
       "<div>\n",
       "<style scoped>\n",
       "    .dataframe tbody tr th:only-of-type {\n",
       "        vertical-align: middle;\n",
       "    }\n",
       "\n",
       "    .dataframe tbody tr th {\n",
       "        vertical-align: top;\n",
       "    }\n",
       "\n",
       "    .dataframe thead th {\n",
       "        text-align: right;\n",
       "    }\n",
       "</style>\n",
       "<table border=\"1\" class=\"dataframe\">\n",
       "  <thead>\n",
       "    <tr style=\"text-align: right;\">\n",
       "      <th></th>\n",
       "      <th>name</th>\n",
       "      <th>marks</th>\n",
       "      <th>city</th>\n",
       "    </tr>\n",
       "  </thead>\n",
       "  <tbody>\n",
       "    <tr>\n",
       "      <th>2</th>\n",
       "      <td>abhishek</td>\n",
       "      <td>98</td>\n",
       "      <td>fazilnagar</td>\n",
       "    </tr>\n",
       "    <tr>\n",
       "      <th>3</th>\n",
       "      <td>anurag</td>\n",
       "      <td>67</td>\n",
       "      <td>prayagraj</td>\n",
       "    </tr>\n",
       "  </tbody>\n",
       "</table>\n",
       "</div>"
      ],
      "text/plain": [
       "       name  marks        city\n",
       "2  abhishek     98  fazilnagar\n",
       "3    anurag     67   prayagraj"
      ]
     },
     "execution_count": 8,
     "metadata": {},
     "output_type": "execute_result"
    }
   ],
   "source": [
    "df.tail(2)"
   ]
  },
  {
   "cell_type": "code",
   "execution_count": 9,
   "id": "89548797-3056-49b1-a835-990dbd44e180",
   "metadata": {},
   "outputs": [
    {
     "data": {
      "text/html": [
       "<div>\n",
       "<style scoped>\n",
       "    .dataframe tbody tr th:only-of-type {\n",
       "        vertical-align: middle;\n",
       "    }\n",
       "\n",
       "    .dataframe tbody tr th {\n",
       "        vertical-align: top;\n",
       "    }\n",
       "\n",
       "    .dataframe thead th {\n",
       "        text-align: right;\n",
       "    }\n",
       "</style>\n",
       "<table border=\"1\" class=\"dataframe\">\n",
       "  <thead>\n",
       "    <tr style=\"text-align: right;\">\n",
       "      <th></th>\n",
       "      <th>marks</th>\n",
       "    </tr>\n",
       "  </thead>\n",
       "  <tbody>\n",
       "    <tr>\n",
       "      <th>count</th>\n",
       "      <td>4.000000</td>\n",
       "    </tr>\n",
       "    <tr>\n",
       "      <th>mean</th>\n",
       "      <td>82.500000</td>\n",
       "    </tr>\n",
       "    <tr>\n",
       "      <th>std</th>\n",
       "      <td>13.178265</td>\n",
       "    </tr>\n",
       "    <tr>\n",
       "      <th>min</th>\n",
       "      <td>67.000000</td>\n",
       "    </tr>\n",
       "    <tr>\n",
       "      <th>25%</th>\n",
       "      <td>75.250000</td>\n",
       "    </tr>\n",
       "    <tr>\n",
       "      <th>50%</th>\n",
       "      <td>82.500000</td>\n",
       "    </tr>\n",
       "    <tr>\n",
       "      <th>75%</th>\n",
       "      <td>89.750000</td>\n",
       "    </tr>\n",
       "    <tr>\n",
       "      <th>max</th>\n",
       "      <td>98.000000</td>\n",
       "    </tr>\n",
       "  </tbody>\n",
       "</table>\n",
       "</div>"
      ],
      "text/plain": [
       "           marks\n",
       "count   4.000000\n",
       "mean   82.500000\n",
       "std    13.178265\n",
       "min    67.000000\n",
       "25%    75.250000\n",
       "50%    82.500000\n",
       "75%    89.750000\n",
       "max    98.000000"
      ]
     },
     "execution_count": 9,
     "metadata": {},
     "output_type": "execute_result"
    }
   ],
   "source": [
    "df.describe()"
   ]
  },
  {
   "cell_type": "code",
   "execution_count": 15,
   "id": "3ea7702b-e40e-453a-8cda-9bc90d128307",
   "metadata": {},
   "outputs": [],
   "source": [
    "abhi = pd.read_csv('Book1.csv')"
   ]
  },
  {
   "cell_type": "code",
   "execution_count": 16,
   "id": "8ed7e468-6b63-443b-b81f-e64d9579b64f",
   "metadata": {},
   "outputs": [
    {
     "data": {
      "text/html": [
       "<div>\n",
       "<style scoped>\n",
       "    .dataframe tbody tr th:only-of-type {\n",
       "        vertical-align: middle;\n",
       "    }\n",
       "\n",
       "    .dataframe tbody tr th {\n",
       "        vertical-align: top;\n",
       "    }\n",
       "\n",
       "    .dataframe thead th {\n",
       "        text-align: right;\n",
       "    }\n",
       "</style>\n",
       "<table border=\"1\" class=\"dataframe\">\n",
       "  <thead>\n",
       "    <tr style=\"text-align: right;\">\n",
       "      <th></th>\n",
       "      <th>Train no</th>\n",
       "      <th>speed</th>\n",
       "      <th>city</th>\n",
       "    </tr>\n",
       "  </thead>\n",
       "  <tbody>\n",
       "    <tr>\n",
       "      <th>0</th>\n",
       "      <td>12679</td>\n",
       "      <td>123</td>\n",
       "      <td>delhi</td>\n",
       "    </tr>\n",
       "    <tr>\n",
       "      <th>1</th>\n",
       "      <td>13980</td>\n",
       "      <td>344</td>\n",
       "      <td>goa</td>\n",
       "    </tr>\n",
       "    <tr>\n",
       "      <th>2</th>\n",
       "      <td>12300</td>\n",
       "      <td>325</td>\n",
       "      <td>gkp</td>\n",
       "    </tr>\n",
       "    <tr>\n",
       "      <th>3</th>\n",
       "      <td>15000</td>\n",
       "      <td>122</td>\n",
       "      <td>prayagraj</td>\n",
       "    </tr>\n",
       "    <tr>\n",
       "      <th>4</th>\n",
       "      <td>12345</td>\n",
       "      <td>232</td>\n",
       "      <td>lucknow</td>\n",
       "    </tr>\n",
       "  </tbody>\n",
       "</table>\n",
       "</div>"
      ],
      "text/plain": [
       "   Train no  speed       city\n",
       "0     12679    123      delhi\n",
       "1     13980    344        goa\n",
       "2     12300    325        gkp\n",
       "3     15000    122  prayagraj\n",
       "4     12345    232    lucknow"
      ]
     },
     "execution_count": 16,
     "metadata": {},
     "output_type": "execute_result"
    }
   ],
   "source": [
    "abhi"
   ]
  },
  {
   "cell_type": "code",
   "execution_count": 17,
   "id": "87bf155c-da81-4db3-b3cf-3ffbdf236cda",
   "metadata": {},
   "outputs": [
    {
     "data": {
      "text/plain": [
       "0    123\n",
       "1    344\n",
       "2    325\n",
       "3    122\n",
       "4    232\n",
       "Name: speed, dtype: int64"
      ]
     },
     "execution_count": 17,
     "metadata": {},
     "output_type": "execute_result"
    }
   ],
   "source": [
    "abhi['speed']"
   ]
  },
  {
   "cell_type": "code",
   "execution_count": 18,
   "id": "4808329d-2f9c-45bf-a891-a3d6b6f51b02",
   "metadata": {},
   "outputs": [
    {
     "data": {
      "text/plain": [
       "123"
      ]
     },
     "execution_count": 18,
     "metadata": {},
     "output_type": "execute_result"
    }
   ],
   "source": [
    "abhi['speed'][0]"
   ]
  },
  {
   "cell_type": "code",
   "execution_count": 19,
   "id": "1c3f8acc-6b08-4419-b9e6-b58c5d200edc",
   "metadata": {},
   "outputs": [
    {
     "name": "stderr",
     "output_type": "stream",
     "text": [
      "C:\\Users\\Muskan Singh\\AppData\\Local\\Temp\\ipykernel_16736\\1556983139.py:1: SettingWithCopyWarning: \n",
      "A value is trying to be set on a copy of a slice from a DataFrame\n",
      "\n",
      "See the caveats in the documentation: https://pandas.pydata.org/pandas-docs/stable/user_guide/indexing.html#returning-a-view-versus-a-copy\n",
      "  abhi['speed'][0]=198\n"
     ]
    }
   ],
   "source": [
    "abhi['speed'][0]=198"
   ]
  },
  {
   "cell_type": "code",
   "execution_count": 20,
   "id": "0804e29e-f262-4637-aa49-b17a1a23df1a",
   "metadata": {},
   "outputs": [
    {
     "data": {
      "text/html": [
       "<div>\n",
       "<style scoped>\n",
       "    .dataframe tbody tr th:only-of-type {\n",
       "        vertical-align: middle;\n",
       "    }\n",
       "\n",
       "    .dataframe tbody tr th {\n",
       "        vertical-align: top;\n",
       "    }\n",
       "\n",
       "    .dataframe thead th {\n",
       "        text-align: right;\n",
       "    }\n",
       "</style>\n",
       "<table border=\"1\" class=\"dataframe\">\n",
       "  <thead>\n",
       "    <tr style=\"text-align: right;\">\n",
       "      <th></th>\n",
       "      <th>Train no</th>\n",
       "      <th>speed</th>\n",
       "      <th>city</th>\n",
       "    </tr>\n",
       "  </thead>\n",
       "  <tbody>\n",
       "    <tr>\n",
       "      <th>0</th>\n",
       "      <td>12679</td>\n",
       "      <td>198</td>\n",
       "      <td>delhi</td>\n",
       "    </tr>\n",
       "    <tr>\n",
       "      <th>1</th>\n",
       "      <td>13980</td>\n",
       "      <td>344</td>\n",
       "      <td>goa</td>\n",
       "    </tr>\n",
       "    <tr>\n",
       "      <th>2</th>\n",
       "      <td>12300</td>\n",
       "      <td>325</td>\n",
       "      <td>gkp</td>\n",
       "    </tr>\n",
       "    <tr>\n",
       "      <th>3</th>\n",
       "      <td>15000</td>\n",
       "      <td>122</td>\n",
       "      <td>prayagraj</td>\n",
       "    </tr>\n",
       "    <tr>\n",
       "      <th>4</th>\n",
       "      <td>12345</td>\n",
       "      <td>232</td>\n",
       "      <td>lucknow</td>\n",
       "    </tr>\n",
       "  </tbody>\n",
       "</table>\n",
       "</div>"
      ],
      "text/plain": [
       "   Train no  speed       city\n",
       "0     12679    198      delhi\n",
       "1     13980    344        goa\n",
       "2     12300    325        gkp\n",
       "3     15000    122  prayagraj\n",
       "4     12345    232    lucknow"
      ]
     },
     "execution_count": 20,
     "metadata": {},
     "output_type": "execute_result"
    }
   ],
   "source": [
    "abhi"
   ]
  },
  {
   "cell_type": "code",
   "execution_count": 22,
   "id": "9c2b1e5d-7ece-4801-b231-e30dea59d9af",
   "metadata": {},
   "outputs": [],
   "source": [
    "abhi.to_csv('Book1.csv',index=False) "
   ]
  },
  {
   "cell_type": "code",
   "execution_count": 26,
   "id": "ec73c9ee-61ad-49d7-af5c-7862a03eceff",
   "metadata": {},
   "outputs": [],
   "source": [
    "abhi.index = ['first', 'second', 'third', 'fourth','fifth']"
   ]
  },
  {
   "cell_type": "code",
   "execution_count": 27,
   "id": "d7b0f290-6e61-49c5-a433-48d2dc4d8143",
   "metadata": {},
   "outputs": [
    {
     "data": {
      "text/html": [
       "<div>\n",
       "<style scoped>\n",
       "    .dataframe tbody tr th:only-of-type {\n",
       "        vertical-align: middle;\n",
       "    }\n",
       "\n",
       "    .dataframe tbody tr th {\n",
       "        vertical-align: top;\n",
       "    }\n",
       "\n",
       "    .dataframe thead th {\n",
       "        text-align: right;\n",
       "    }\n",
       "</style>\n",
       "<table border=\"1\" class=\"dataframe\">\n",
       "  <thead>\n",
       "    <tr style=\"text-align: right;\">\n",
       "      <th></th>\n",
       "      <th>Train no</th>\n",
       "      <th>speed</th>\n",
       "      <th>city</th>\n",
       "    </tr>\n",
       "  </thead>\n",
       "  <tbody>\n",
       "    <tr>\n",
       "      <th>first</th>\n",
       "      <td>12679</td>\n",
       "      <td>198</td>\n",
       "      <td>delhi</td>\n",
       "    </tr>\n",
       "    <tr>\n",
       "      <th>second</th>\n",
       "      <td>13980</td>\n",
       "      <td>344</td>\n",
       "      <td>goa</td>\n",
       "    </tr>\n",
       "    <tr>\n",
       "      <th>third</th>\n",
       "      <td>12300</td>\n",
       "      <td>325</td>\n",
       "      <td>gkp</td>\n",
       "    </tr>\n",
       "    <tr>\n",
       "      <th>fourth</th>\n",
       "      <td>15000</td>\n",
       "      <td>122</td>\n",
       "      <td>prayagraj</td>\n",
       "    </tr>\n",
       "    <tr>\n",
       "      <th>fifth</th>\n",
       "      <td>12345</td>\n",
       "      <td>232</td>\n",
       "      <td>lucknow</td>\n",
       "    </tr>\n",
       "  </tbody>\n",
       "</table>\n",
       "</div>"
      ],
      "text/plain": [
       "        Train no  speed       city\n",
       "first      12679    198      delhi\n",
       "second     13980    344        goa\n",
       "third      12300    325        gkp\n",
       "fourth     15000    122  prayagraj\n",
       "fifth      12345    232    lucknow"
      ]
     },
     "execution_count": 27,
     "metadata": {},
     "output_type": "execute_result"
    }
   ],
   "source": [
    "abhi"
   ]
  },
  {
   "cell_type": "code",
   "execution_count": 28,
   "id": "3f56dd1e-ff21-4829-9007-5d20cac2ce82",
   "metadata": {},
   "outputs": [],
   "source": [
    "ser = pd.Series(np.random.rand)"
   ]
  },
  {
   "cell_type": "code",
   "execution_count": 29,
   "id": "c5bb4433-8643-4126-9ec4-c12760e2bbdb",
   "metadata": {},
   "outputs": [
    {
     "data": {
      "text/plain": [
       "0    <built-in method rand of numpy.random.mtrand.R...\n",
       "dtype: object"
      ]
     },
     "execution_count": 29,
     "metadata": {},
     "output_type": "execute_result"
    }
   ],
   "source": [
    "ser"
   ]
  },
  {
   "cell_type": "code",
   "execution_count": 31,
   "id": "e1a3a4e4-1065-42d0-88b3-0ac13ec7515c",
   "metadata": {},
   "outputs": [],
   "source": [
    "ser = pd.Series(np.random.rand(30))"
   ]
  },
  {
   "cell_type": "code",
   "execution_count": 32,
   "id": "72348675-fe4a-4665-805b-eaf9d9a51aa4",
   "metadata": {},
   "outputs": [
    {
     "data": {
      "text/plain": [
       "0     0.287276\n",
       "1     0.716169\n",
       "2     0.541942\n",
       "3     0.319764\n",
       "4     0.068013\n",
       "5     0.064528\n",
       "6     0.766649\n",
       "7     0.343889\n",
       "8     0.091765\n",
       "9     0.996107\n",
       "10    0.453695\n",
       "11    0.694608\n",
       "12    0.082174\n",
       "13    0.330733\n",
       "14    0.314555\n",
       "15    0.575701\n",
       "16    0.812438\n",
       "17    0.567004\n",
       "18    0.010307\n",
       "19    0.878820\n",
       "20    0.579070\n",
       "21    0.289309\n",
       "22    0.977515\n",
       "23    0.416573\n",
       "24    0.786936\n",
       "25    0.108939\n",
       "26    0.233869\n",
       "27    0.412743\n",
       "28    0.683382\n",
       "29    0.394319\n",
       "dtype: float64"
      ]
     },
     "execution_count": 32,
     "metadata": {},
     "output_type": "execute_result"
    }
   ],
   "source": [
    "ser"
   ]
  },
  {
   "cell_type": "code",
   "execution_count": 33,
   "id": "3b3a7cdd-3a9d-46da-b99f-07e10d5e82ec",
   "metadata": {},
   "outputs": [
    {
     "data": {
      "text/plain": [
       "pandas.core.series.Series"
      ]
     },
     "execution_count": 33,
     "metadata": {},
     "output_type": "execute_result"
    }
   ],
   "source": [
    "type(ser)"
   ]
  },
  {
   "cell_type": "code",
   "execution_count": 34,
   "id": "c28db4d6-318d-4835-b4bc-bb2e23022e83",
   "metadata": {},
   "outputs": [],
   "source": [
    "newdf = pd.DataFrame(np.random.rand(334,5),index=np.arange(334))"
   ]
  },
  {
   "cell_type": "code",
   "execution_count": 35,
   "id": "dafb8314-694b-4ef3-9ede-c912432e9a49",
   "metadata": {},
   "outputs": [
    {
     "data": {
      "text/html": [
       "<div>\n",
       "<style scoped>\n",
       "    .dataframe tbody tr th:only-of-type {\n",
       "        vertical-align: middle;\n",
       "    }\n",
       "\n",
       "    .dataframe tbody tr th {\n",
       "        vertical-align: top;\n",
       "    }\n",
       "\n",
       "    .dataframe thead th {\n",
       "        text-align: right;\n",
       "    }\n",
       "</style>\n",
       "<table border=\"1\" class=\"dataframe\">\n",
       "  <thead>\n",
       "    <tr style=\"text-align: right;\">\n",
       "      <th></th>\n",
       "      <th>0</th>\n",
       "      <th>1</th>\n",
       "      <th>2</th>\n",
       "      <th>3</th>\n",
       "      <th>4</th>\n",
       "    </tr>\n",
       "  </thead>\n",
       "  <tbody>\n",
       "    <tr>\n",
       "      <th>0</th>\n",
       "      <td>0.827434</td>\n",
       "      <td>0.834310</td>\n",
       "      <td>0.912586</td>\n",
       "      <td>0.873162</td>\n",
       "      <td>0.178746</td>\n",
       "    </tr>\n",
       "    <tr>\n",
       "      <th>1</th>\n",
       "      <td>0.132217</td>\n",
       "      <td>0.596804</td>\n",
       "      <td>0.974222</td>\n",
       "      <td>0.919711</td>\n",
       "      <td>0.884790</td>\n",
       "    </tr>\n",
       "    <tr>\n",
       "      <th>2</th>\n",
       "      <td>0.498704</td>\n",
       "      <td>0.610765</td>\n",
       "      <td>0.686734</td>\n",
       "      <td>0.919629</td>\n",
       "      <td>0.517826</td>\n",
       "    </tr>\n",
       "    <tr>\n",
       "      <th>3</th>\n",
       "      <td>0.191565</td>\n",
       "      <td>0.580605</td>\n",
       "      <td>0.491735</td>\n",
       "      <td>0.471335</td>\n",
       "      <td>0.812852</td>\n",
       "    </tr>\n",
       "    <tr>\n",
       "      <th>4</th>\n",
       "      <td>0.645839</td>\n",
       "      <td>0.414506</td>\n",
       "      <td>0.612970</td>\n",
       "      <td>0.904684</td>\n",
       "      <td>0.460321</td>\n",
       "    </tr>\n",
       "    <tr>\n",
       "      <th>...</th>\n",
       "      <td>...</td>\n",
       "      <td>...</td>\n",
       "      <td>...</td>\n",
       "      <td>...</td>\n",
       "      <td>...</td>\n",
       "    </tr>\n",
       "    <tr>\n",
       "      <th>329</th>\n",
       "      <td>0.927882</td>\n",
       "      <td>0.030550</td>\n",
       "      <td>0.375910</td>\n",
       "      <td>0.829439</td>\n",
       "      <td>0.659453</td>\n",
       "    </tr>\n",
       "    <tr>\n",
       "      <th>330</th>\n",
       "      <td>0.516709</td>\n",
       "      <td>0.916112</td>\n",
       "      <td>0.841661</td>\n",
       "      <td>0.050643</td>\n",
       "      <td>0.250240</td>\n",
       "    </tr>\n",
       "    <tr>\n",
       "      <th>331</th>\n",
       "      <td>0.040707</td>\n",
       "      <td>0.756261</td>\n",
       "      <td>0.222748</td>\n",
       "      <td>0.313420</td>\n",
       "      <td>0.419412</td>\n",
       "    </tr>\n",
       "    <tr>\n",
       "      <th>332</th>\n",
       "      <td>0.629214</td>\n",
       "      <td>0.530043</td>\n",
       "      <td>0.417179</td>\n",
       "      <td>0.154244</td>\n",
       "      <td>0.151709</td>\n",
       "    </tr>\n",
       "    <tr>\n",
       "      <th>333</th>\n",
       "      <td>0.225558</td>\n",
       "      <td>0.073868</td>\n",
       "      <td>0.150800</td>\n",
       "      <td>0.292526</td>\n",
       "      <td>0.836530</td>\n",
       "    </tr>\n",
       "  </tbody>\n",
       "</table>\n",
       "<p>334 rows × 5 columns</p>\n",
       "</div>"
      ],
      "text/plain": [
       "            0         1         2         3         4\n",
       "0    0.827434  0.834310  0.912586  0.873162  0.178746\n",
       "1    0.132217  0.596804  0.974222  0.919711  0.884790\n",
       "2    0.498704  0.610765  0.686734  0.919629  0.517826\n",
       "3    0.191565  0.580605  0.491735  0.471335  0.812852\n",
       "4    0.645839  0.414506  0.612970  0.904684  0.460321\n",
       "..        ...       ...       ...       ...       ...\n",
       "329  0.927882  0.030550  0.375910  0.829439  0.659453\n",
       "330  0.516709  0.916112  0.841661  0.050643  0.250240\n",
       "331  0.040707  0.756261  0.222748  0.313420  0.419412\n",
       "332  0.629214  0.530043  0.417179  0.154244  0.151709\n",
       "333  0.225558  0.073868  0.150800  0.292526  0.836530\n",
       "\n",
       "[334 rows x 5 columns]"
      ]
     },
     "execution_count": 35,
     "metadata": {},
     "output_type": "execute_result"
    }
   ],
   "source": [
    "newdf"
   ]
  },
  {
   "cell_type": "code",
   "execution_count": 36,
   "id": "45994624-c82a-4295-b470-332916c10db2",
   "metadata": {},
   "outputs": [
    {
     "data": {
      "text/plain": [
       "pandas.core.frame.DataFrame"
      ]
     },
     "execution_count": 36,
     "metadata": {},
     "output_type": "execute_result"
    }
   ],
   "source": [
    "type(newdf)"
   ]
  },
  {
   "cell_type": "code",
   "execution_count": 37,
   "id": "529176ee-dda2-449d-9024-72b18bb54057",
   "metadata": {},
   "outputs": [
    {
     "data": {
      "text/html": [
       "<div>\n",
       "<style scoped>\n",
       "    .dataframe tbody tr th:only-of-type {\n",
       "        vertical-align: middle;\n",
       "    }\n",
       "\n",
       "    .dataframe tbody tr th {\n",
       "        vertical-align: top;\n",
       "    }\n",
       "\n",
       "    .dataframe thead th {\n",
       "        text-align: right;\n",
       "    }\n",
       "</style>\n",
       "<table border=\"1\" class=\"dataframe\">\n",
       "  <thead>\n",
       "    <tr style=\"text-align: right;\">\n",
       "      <th></th>\n",
       "      <th>0</th>\n",
       "      <th>1</th>\n",
       "      <th>2</th>\n",
       "      <th>3</th>\n",
       "      <th>4</th>\n",
       "    </tr>\n",
       "  </thead>\n",
       "  <tbody>\n",
       "    <tr>\n",
       "      <th>count</th>\n",
       "      <td>334.000000</td>\n",
       "      <td>334.000000</td>\n",
       "      <td>334.000000</td>\n",
       "      <td>334.000000</td>\n",
       "      <td>334.000000</td>\n",
       "    </tr>\n",
       "    <tr>\n",
       "      <th>mean</th>\n",
       "      <td>0.504356</td>\n",
       "      <td>0.523922</td>\n",
       "      <td>0.485695</td>\n",
       "      <td>0.529469</td>\n",
       "      <td>0.514135</td>\n",
       "    </tr>\n",
       "    <tr>\n",
       "      <th>std</th>\n",
       "      <td>0.296752</td>\n",
       "      <td>0.287060</td>\n",
       "      <td>0.288803</td>\n",
       "      <td>0.270948</td>\n",
       "      <td>0.288524</td>\n",
       "    </tr>\n",
       "    <tr>\n",
       "      <th>min</th>\n",
       "      <td>0.000144</td>\n",
       "      <td>0.000757</td>\n",
       "      <td>0.000305</td>\n",
       "      <td>0.001744</td>\n",
       "      <td>0.001556</td>\n",
       "    </tr>\n",
       "    <tr>\n",
       "      <th>25%</th>\n",
       "      <td>0.224083</td>\n",
       "      <td>0.293713</td>\n",
       "      <td>0.250012</td>\n",
       "      <td>0.315563</td>\n",
       "      <td>0.262034</td>\n",
       "    </tr>\n",
       "    <tr>\n",
       "      <th>50%</th>\n",
       "      <td>0.511230</td>\n",
       "      <td>0.514989</td>\n",
       "      <td>0.445295</td>\n",
       "      <td>0.538349</td>\n",
       "      <td>0.537147</td>\n",
       "    </tr>\n",
       "    <tr>\n",
       "      <th>75%</th>\n",
       "      <td>0.760767</td>\n",
       "      <td>0.791027</td>\n",
       "      <td>0.741344</td>\n",
       "      <td>0.754984</td>\n",
       "      <td>0.770568</td>\n",
       "    </tr>\n",
       "    <tr>\n",
       "      <th>max</th>\n",
       "      <td>0.996205</td>\n",
       "      <td>0.999020</td>\n",
       "      <td>0.999016</td>\n",
       "      <td>0.995046</td>\n",
       "      <td>0.998900</td>\n",
       "    </tr>\n",
       "  </tbody>\n",
       "</table>\n",
       "</div>"
      ],
      "text/plain": [
       "                0           1           2           3           4\n",
       "count  334.000000  334.000000  334.000000  334.000000  334.000000\n",
       "mean     0.504356    0.523922    0.485695    0.529469    0.514135\n",
       "std      0.296752    0.287060    0.288803    0.270948    0.288524\n",
       "min      0.000144    0.000757    0.000305    0.001744    0.001556\n",
       "25%      0.224083    0.293713    0.250012    0.315563    0.262034\n",
       "50%      0.511230    0.514989    0.445295    0.538349    0.537147\n",
       "75%      0.760767    0.791027    0.741344    0.754984    0.770568\n",
       "max      0.996205    0.999020    0.999016    0.995046    0.998900"
      ]
     },
     "execution_count": 37,
     "metadata": {},
     "output_type": "execute_result"
    }
   ],
   "source": [
    "newdf.describe()"
   ]
  },
  {
   "cell_type": "code",
   "execution_count": 40,
   "id": "5b78b0b1-96f0-45a4-bad9-9f3d23a00f5f",
   "metadata": {},
   "outputs": [
    {
     "data": {
      "text/plain": [
       "0    float64\n",
       "1    float64\n",
       "2    float64\n",
       "3    float64\n",
       "4    float64\n",
       "dtype: object"
      ]
     },
     "execution_count": 40,
     "metadata": {},
     "output_type": "execute_result"
    }
   ],
   "source": [
    "newdf.dtypes"
   ]
  },
  {
   "cell_type": "code",
   "execution_count": 41,
   "id": "44411028-0efe-423e-bf5a-d1334144194e",
   "metadata": {},
   "outputs": [
    {
     "data": {
      "text/plain": [
       "0      0.827434\n",
       "1      0.132217\n",
       "2      0.498704\n",
       "3      0.191565\n",
       "4      0.645839\n",
       "         ...   \n",
       "329    0.927882\n",
       "330    0.516709\n",
       "331    0.040707\n",
       "332    0.629214\n",
       "333    0.225558\n",
       "Name: 0, Length: 334, dtype: float64"
      ]
     },
     "execution_count": 41,
     "metadata": {},
     "output_type": "execute_result"
    }
   ],
   "source": [
    "newdf[0]"
   ]
  },
  {
   "cell_type": "code",
   "execution_count": 42,
   "id": "030956e6-1da1-4e92-8960-c8d1b91aa3f3",
   "metadata": {},
   "outputs": [
    {
     "data": {
      "text/plain": [
       "0.8274337448486934"
      ]
     },
     "execution_count": 42,
     "metadata": {},
     "output_type": "execute_result"
    }
   ],
   "source": [
    "newdf[0][0]"
   ]
  },
  {
   "cell_type": "code",
   "execution_count": 43,
   "id": "4b187034-aa51-4459-9c9c-03dee8d0effc",
   "metadata": {},
   "outputs": [
    {
     "name": "stderr",
     "output_type": "stream",
     "text": [
      "C:\\Users\\Muskan Singh\\AppData\\Local\\Temp\\ipykernel_16736\\243217777.py:1: FutureWarning: Setting an item of incompatible dtype is deprecated and will raise an error in a future version of pandas. Value 'abhinav' has dtype incompatible with float64, please explicitly cast to a compatible dtype first.\n",
      "  newdf[0][0]=\"abhinav\"\n"
     ]
    }
   ],
   "source": [
    "newdf[0][0]=\"abhinav\""
   ]
  },
  {
   "cell_type": "code",
   "execution_count": 44,
   "id": "45848176-ee42-4247-b09b-e83d390d4323",
   "metadata": {},
   "outputs": [
    {
     "data": {
      "text/html": [
       "<div>\n",
       "<style scoped>\n",
       "    .dataframe tbody tr th:only-of-type {\n",
       "        vertical-align: middle;\n",
       "    }\n",
       "\n",
       "    .dataframe tbody tr th {\n",
       "        vertical-align: top;\n",
       "    }\n",
       "\n",
       "    .dataframe thead th {\n",
       "        text-align: right;\n",
       "    }\n",
       "</style>\n",
       "<table border=\"1\" class=\"dataframe\">\n",
       "  <thead>\n",
       "    <tr style=\"text-align: right;\">\n",
       "      <th></th>\n",
       "      <th>0</th>\n",
       "      <th>1</th>\n",
       "      <th>2</th>\n",
       "      <th>3</th>\n",
       "      <th>4</th>\n",
       "    </tr>\n",
       "  </thead>\n",
       "  <tbody>\n",
       "    <tr>\n",
       "      <th>0</th>\n",
       "      <td>abhinav</td>\n",
       "      <td>0.834310</td>\n",
       "      <td>0.912586</td>\n",
       "      <td>0.873162</td>\n",
       "      <td>0.178746</td>\n",
       "    </tr>\n",
       "    <tr>\n",
       "      <th>1</th>\n",
       "      <td>0.132217</td>\n",
       "      <td>0.596804</td>\n",
       "      <td>0.974222</td>\n",
       "      <td>0.919711</td>\n",
       "      <td>0.884790</td>\n",
       "    </tr>\n",
       "    <tr>\n",
       "      <th>2</th>\n",
       "      <td>0.498704</td>\n",
       "      <td>0.610765</td>\n",
       "      <td>0.686734</td>\n",
       "      <td>0.919629</td>\n",
       "      <td>0.517826</td>\n",
       "    </tr>\n",
       "    <tr>\n",
       "      <th>3</th>\n",
       "      <td>0.191565</td>\n",
       "      <td>0.580605</td>\n",
       "      <td>0.491735</td>\n",
       "      <td>0.471335</td>\n",
       "      <td>0.812852</td>\n",
       "    </tr>\n",
       "    <tr>\n",
       "      <th>4</th>\n",
       "      <td>0.645839</td>\n",
       "      <td>0.414506</td>\n",
       "      <td>0.612970</td>\n",
       "      <td>0.904684</td>\n",
       "      <td>0.460321</td>\n",
       "    </tr>\n",
       "    <tr>\n",
       "      <th>...</th>\n",
       "      <td>...</td>\n",
       "      <td>...</td>\n",
       "      <td>...</td>\n",
       "      <td>...</td>\n",
       "      <td>...</td>\n",
       "    </tr>\n",
       "    <tr>\n",
       "      <th>329</th>\n",
       "      <td>0.927882</td>\n",
       "      <td>0.030550</td>\n",
       "      <td>0.375910</td>\n",
       "      <td>0.829439</td>\n",
       "      <td>0.659453</td>\n",
       "    </tr>\n",
       "    <tr>\n",
       "      <th>330</th>\n",
       "      <td>0.516709</td>\n",
       "      <td>0.916112</td>\n",
       "      <td>0.841661</td>\n",
       "      <td>0.050643</td>\n",
       "      <td>0.250240</td>\n",
       "    </tr>\n",
       "    <tr>\n",
       "      <th>331</th>\n",
       "      <td>0.040707</td>\n",
       "      <td>0.756261</td>\n",
       "      <td>0.222748</td>\n",
       "      <td>0.313420</td>\n",
       "      <td>0.419412</td>\n",
       "    </tr>\n",
       "    <tr>\n",
       "      <th>332</th>\n",
       "      <td>0.629214</td>\n",
       "      <td>0.530043</td>\n",
       "      <td>0.417179</td>\n",
       "      <td>0.154244</td>\n",
       "      <td>0.151709</td>\n",
       "    </tr>\n",
       "    <tr>\n",
       "      <th>333</th>\n",
       "      <td>0.225558</td>\n",
       "      <td>0.073868</td>\n",
       "      <td>0.150800</td>\n",
       "      <td>0.292526</td>\n",
       "      <td>0.836530</td>\n",
       "    </tr>\n",
       "  </tbody>\n",
       "</table>\n",
       "<p>334 rows × 5 columns</p>\n",
       "</div>"
      ],
      "text/plain": [
       "            0         1         2         3         4\n",
       "0     abhinav  0.834310  0.912586  0.873162  0.178746\n",
       "1    0.132217  0.596804  0.974222  0.919711  0.884790\n",
       "2    0.498704  0.610765  0.686734  0.919629  0.517826\n",
       "3    0.191565  0.580605  0.491735  0.471335  0.812852\n",
       "4    0.645839  0.414506  0.612970  0.904684  0.460321\n",
       "..        ...       ...       ...       ...       ...\n",
       "329  0.927882  0.030550  0.375910  0.829439  0.659453\n",
       "330  0.516709  0.916112  0.841661  0.050643  0.250240\n",
       "331  0.040707  0.756261  0.222748  0.313420  0.419412\n",
       "332  0.629214  0.530043  0.417179  0.154244  0.151709\n",
       "333  0.225558  0.073868  0.150800  0.292526  0.836530\n",
       "\n",
       "[334 rows x 5 columns]"
      ]
     },
     "execution_count": 44,
     "metadata": {},
     "output_type": "execute_result"
    }
   ],
   "source": [
    "newdf"
   ]
  },
  {
   "cell_type": "code",
   "execution_count": 45,
   "id": "7659828d-e899-4cc9-a254-d2a70ee429c6",
   "metadata": {},
   "outputs": [
    {
     "data": {
      "text/plain": [
       "0     object\n",
       "1    float64\n",
       "2    float64\n",
       "3    float64\n",
       "4    float64\n",
       "dtype: object"
      ]
     },
     "execution_count": 45,
     "metadata": {},
     "output_type": "execute_result"
    }
   ],
   "source": [
    "newdf.dtypes"
   ]
  },
  {
   "cell_type": "code",
   "execution_count": 46,
   "id": "245f6eaa-e3e6-4d35-83ac-067483f454e6",
   "metadata": {},
   "outputs": [
    {
     "data": {
      "text/plain": [
       "Index([  0,   1,   2,   3,   4,   5,   6,   7,   8,   9,\n",
       "       ...\n",
       "       324, 325, 326, 327, 328, 329, 330, 331, 332, 333],\n",
       "      dtype='int32', length=334)"
      ]
     },
     "execution_count": 46,
     "metadata": {},
     "output_type": "execute_result"
    }
   ],
   "source": [
    "newdf.index"
   ]
  },
  {
   "cell_type": "code",
   "execution_count": 47,
   "id": "46aad953-4d98-459f-b531-70b94d84b373",
   "metadata": {},
   "outputs": [
    {
     "data": {
      "text/plain": [
       "RangeIndex(start=0, stop=5, step=1)"
      ]
     },
     "execution_count": 47,
     "metadata": {},
     "output_type": "execute_result"
    }
   ],
   "source": [
    "newdf.columns"
   ]
  },
  {
   "cell_type": "code",
   "execution_count": 48,
   "id": "8ad8adb9-09da-4987-93b4-220170cbce77",
   "metadata": {},
   "outputs": [
    {
     "data": {
      "text/plain": [
       "<bound method DataFrame.to_numpy of             0         1         2         3         4\n",
       "0     abhinav  0.834310  0.912586  0.873162  0.178746\n",
       "1    0.132217  0.596804  0.974222  0.919711  0.884790\n",
       "2    0.498704  0.610765  0.686734  0.919629  0.517826\n",
       "3    0.191565  0.580605  0.491735  0.471335  0.812852\n",
       "4    0.645839  0.414506  0.612970  0.904684  0.460321\n",
       "..        ...       ...       ...       ...       ...\n",
       "329  0.927882  0.030550  0.375910  0.829439  0.659453\n",
       "330  0.516709  0.916112  0.841661  0.050643  0.250240\n",
       "331  0.040707  0.756261  0.222748  0.313420  0.419412\n",
       "332  0.629214  0.530043  0.417179  0.154244  0.151709\n",
       "333  0.225558  0.073868  0.150800  0.292526  0.836530\n",
       "\n",
       "[334 rows x 5 columns]>"
      ]
     },
     "execution_count": 48,
     "metadata": {},
     "output_type": "execute_result"
    }
   ],
   "source": [
    "newdf.to_numpy"
   ]
  },
  {
   "cell_type": "code",
   "execution_count": 49,
   "id": "eedb6ef3-6ad6-4937-bd1d-340579d7ed25",
   "metadata": {},
   "outputs": [],
   "source": [
    "newdf[0][0]=0.98764"
   ]
  },
  {
   "cell_type": "code",
   "execution_count": 51,
   "id": "96dbc13e-df56-4813-9b73-a37c0bc0d87e",
   "metadata": {},
   "outputs": [
    {
     "data": {
      "text/plain": [
       "array([[0.98764, 0.8343100504230793, 0.9125857116062979,\n",
       "        0.8731623995151754, 0.17874600901461202],\n",
       "       [0.13221711341573394, 0.5968044010325633, 0.9742215137629915,\n",
       "        0.9197105930231331, 0.8847902806628833],\n",
       "       [0.49870422287588356, 0.6107651195695128, 0.6867338439339118,\n",
       "        0.9196294196426621, 0.5178257875786445],\n",
       "       ...,\n",
       "       [0.040707079410614355, 0.7562609722469288, 0.2227478898338655,\n",
       "        0.3134200458267581, 0.4194124188406473],\n",
       "       [0.6292143571975083, 0.5300427594345947, 0.4171785601010711,\n",
       "        0.15424434647796237, 0.15170924096456595],\n",
       "       [0.2255576012035202, 0.07386770766128281, 0.15079984178074712,\n",
       "        0.29252585242148943, 0.8365301594219263]], dtype=object)"
      ]
     },
     "execution_count": 51,
     "metadata": {},
     "output_type": "execute_result"
    }
   ],
   "source": [
    "newdf.to_numpy()"
   ]
  },
  {
   "cell_type": "code",
   "execution_count": 52,
   "id": "d67a4b11-7b68-454a-a08c-4042c06d71eb",
   "metadata": {},
   "outputs": [
    {
     "data": {
      "text/html": [
       "<div>\n",
       "<style scoped>\n",
       "    .dataframe tbody tr th:only-of-type {\n",
       "        vertical-align: middle;\n",
       "    }\n",
       "\n",
       "    .dataframe tbody tr th {\n",
       "        vertical-align: top;\n",
       "    }\n",
       "\n",
       "    .dataframe thead th {\n",
       "        text-align: right;\n",
       "    }\n",
       "</style>\n",
       "<table border=\"1\" class=\"dataframe\">\n",
       "  <thead>\n",
       "    <tr style=\"text-align: right;\">\n",
       "      <th></th>\n",
       "      <th>0</th>\n",
       "      <th>1</th>\n",
       "      <th>2</th>\n",
       "      <th>3</th>\n",
       "      <th>4</th>\n",
       "      <th>5</th>\n",
       "      <th>6</th>\n",
       "      <th>7</th>\n",
       "      <th>8</th>\n",
       "      <th>9</th>\n",
       "      <th>...</th>\n",
       "      <th>324</th>\n",
       "      <th>325</th>\n",
       "      <th>326</th>\n",
       "      <th>327</th>\n",
       "      <th>328</th>\n",
       "      <th>329</th>\n",
       "      <th>330</th>\n",
       "      <th>331</th>\n",
       "      <th>332</th>\n",
       "      <th>333</th>\n",
       "    </tr>\n",
       "  </thead>\n",
       "  <tbody>\n",
       "    <tr>\n",
       "      <th>0</th>\n",
       "      <td>0.98764</td>\n",
       "      <td>0.132217</td>\n",
       "      <td>0.498704</td>\n",
       "      <td>0.191565</td>\n",
       "      <td>0.645839</td>\n",
       "      <td>0.193182</td>\n",
       "      <td>0.251776</td>\n",
       "      <td>0.109782</td>\n",
       "      <td>0.034101</td>\n",
       "      <td>0.657647</td>\n",
       "      <td>...</td>\n",
       "      <td>0.718118</td>\n",
       "      <td>0.68171</td>\n",
       "      <td>0.893597</td>\n",
       "      <td>0.184389</td>\n",
       "      <td>0.60215</td>\n",
       "      <td>0.927882</td>\n",
       "      <td>0.516709</td>\n",
       "      <td>0.040707</td>\n",
       "      <td>0.629214</td>\n",
       "      <td>0.225558</td>\n",
       "    </tr>\n",
       "    <tr>\n",
       "      <th>1</th>\n",
       "      <td>0.83431</td>\n",
       "      <td>0.596804</td>\n",
       "      <td>0.610765</td>\n",
       "      <td>0.580605</td>\n",
       "      <td>0.414506</td>\n",
       "      <td>0.58187</td>\n",
       "      <td>0.950641</td>\n",
       "      <td>0.821158</td>\n",
       "      <td>0.000757</td>\n",
       "      <td>0.852819</td>\n",
       "      <td>...</td>\n",
       "      <td>0.365835</td>\n",
       "      <td>0.855496</td>\n",
       "      <td>0.850219</td>\n",
       "      <td>0.223862</td>\n",
       "      <td>0.49585</td>\n",
       "      <td>0.03055</td>\n",
       "      <td>0.916112</td>\n",
       "      <td>0.756261</td>\n",
       "      <td>0.530043</td>\n",
       "      <td>0.073868</td>\n",
       "    </tr>\n",
       "    <tr>\n",
       "      <th>2</th>\n",
       "      <td>0.912586</td>\n",
       "      <td>0.974222</td>\n",
       "      <td>0.686734</td>\n",
       "      <td>0.491735</td>\n",
       "      <td>0.61297</td>\n",
       "      <td>0.533543</td>\n",
       "      <td>0.944944</td>\n",
       "      <td>0.305595</td>\n",
       "      <td>0.479686</td>\n",
       "      <td>0.304151</td>\n",
       "      <td>...</td>\n",
       "      <td>0.862269</td>\n",
       "      <td>0.601735</td>\n",
       "      <td>0.086199</td>\n",
       "      <td>0.324371</td>\n",
       "      <td>0.692679</td>\n",
       "      <td>0.37591</td>\n",
       "      <td>0.841661</td>\n",
       "      <td>0.222748</td>\n",
       "      <td>0.417179</td>\n",
       "      <td>0.1508</td>\n",
       "    </tr>\n",
       "    <tr>\n",
       "      <th>3</th>\n",
       "      <td>0.873162</td>\n",
       "      <td>0.919711</td>\n",
       "      <td>0.919629</td>\n",
       "      <td>0.471335</td>\n",
       "      <td>0.904684</td>\n",
       "      <td>0.211918</td>\n",
       "      <td>0.093224</td>\n",
       "      <td>0.019363</td>\n",
       "      <td>0.66949</td>\n",
       "      <td>0.445959</td>\n",
       "      <td>...</td>\n",
       "      <td>0.971797</td>\n",
       "      <td>0.265077</td>\n",
       "      <td>0.243137</td>\n",
       "      <td>0.626536</td>\n",
       "      <td>0.26661</td>\n",
       "      <td>0.829439</td>\n",
       "      <td>0.050643</td>\n",
       "      <td>0.31342</td>\n",
       "      <td>0.154244</td>\n",
       "      <td>0.292526</td>\n",
       "    </tr>\n",
       "    <tr>\n",
       "      <th>4</th>\n",
       "      <td>0.178746</td>\n",
       "      <td>0.88479</td>\n",
       "      <td>0.517826</td>\n",
       "      <td>0.812852</td>\n",
       "      <td>0.460321</td>\n",
       "      <td>0.905854</td>\n",
       "      <td>0.261956</td>\n",
       "      <td>0.48371</td>\n",
       "      <td>0.574092</td>\n",
       "      <td>0.014738</td>\n",
       "      <td>...</td>\n",
       "      <td>0.823002</td>\n",
       "      <td>0.564216</td>\n",
       "      <td>0.90807</td>\n",
       "      <td>0.433839</td>\n",
       "      <td>0.865499</td>\n",
       "      <td>0.659453</td>\n",
       "      <td>0.25024</td>\n",
       "      <td>0.419412</td>\n",
       "      <td>0.151709</td>\n",
       "      <td>0.83653</td>\n",
       "    </tr>\n",
       "  </tbody>\n",
       "</table>\n",
       "<p>5 rows × 334 columns</p>\n",
       "</div>"
      ],
      "text/plain": [
       "        0         1         2         3         4         5         6    \\\n",
       "0   0.98764  0.132217  0.498704  0.191565  0.645839  0.193182  0.251776   \n",
       "1   0.83431  0.596804  0.610765  0.580605  0.414506   0.58187  0.950641   \n",
       "2  0.912586  0.974222  0.686734  0.491735   0.61297  0.533543  0.944944   \n",
       "3  0.873162  0.919711  0.919629  0.471335  0.904684  0.211918  0.093224   \n",
       "4  0.178746   0.88479  0.517826  0.812852  0.460321  0.905854  0.261956   \n",
       "\n",
       "        7         8         9    ...       324       325       326       327  \\\n",
       "0  0.109782  0.034101  0.657647  ...  0.718118   0.68171  0.893597  0.184389   \n",
       "1  0.821158  0.000757  0.852819  ...  0.365835  0.855496  0.850219  0.223862   \n",
       "2  0.305595  0.479686  0.304151  ...  0.862269  0.601735  0.086199  0.324371   \n",
       "3  0.019363   0.66949  0.445959  ...  0.971797  0.265077  0.243137  0.626536   \n",
       "4   0.48371  0.574092  0.014738  ...  0.823002  0.564216   0.90807  0.433839   \n",
       "\n",
       "        328       329       330       331       332       333  \n",
       "0   0.60215  0.927882  0.516709  0.040707  0.629214  0.225558  \n",
       "1   0.49585   0.03055  0.916112  0.756261  0.530043  0.073868  \n",
       "2  0.692679   0.37591  0.841661  0.222748  0.417179    0.1508  \n",
       "3   0.26661  0.829439  0.050643   0.31342  0.154244  0.292526  \n",
       "4  0.865499  0.659453   0.25024  0.419412  0.151709   0.83653  \n",
       "\n",
       "[5 rows x 334 columns]"
      ]
     },
     "execution_count": 52,
     "metadata": {},
     "output_type": "execute_result"
    }
   ],
   "source": [
    "newdf.T"
   ]
  },
  {
   "cell_type": "code",
   "execution_count": 54,
   "id": "b87dd154-3147-4b8c-8135-e8421a282ade",
   "metadata": {},
   "outputs": [
    {
     "data": {
      "text/html": [
       "<div>\n",
       "<style scoped>\n",
       "    .dataframe tbody tr th:only-of-type {\n",
       "        vertical-align: middle;\n",
       "    }\n",
       "\n",
       "    .dataframe tbody tr th {\n",
       "        vertical-align: top;\n",
       "    }\n",
       "\n",
       "    .dataframe thead th {\n",
       "        text-align: right;\n",
       "    }\n",
       "</style>\n",
       "<table border=\"1\" class=\"dataframe\">\n",
       "  <thead>\n",
       "    <tr style=\"text-align: right;\">\n",
       "      <th></th>\n",
       "      <th>0</th>\n",
       "      <th>1</th>\n",
       "      <th>2</th>\n",
       "      <th>3</th>\n",
       "      <th>4</th>\n",
       "    </tr>\n",
       "  </thead>\n",
       "  <tbody>\n",
       "    <tr>\n",
       "      <th>0</th>\n",
       "      <td>0.98764</td>\n",
       "      <td>0.834310</td>\n",
       "      <td>0.912586</td>\n",
       "      <td>0.873162</td>\n",
       "      <td>0.178746</td>\n",
       "    </tr>\n",
       "    <tr>\n",
       "      <th>1</th>\n",
       "      <td>0.132217</td>\n",
       "      <td>0.596804</td>\n",
       "      <td>0.974222</td>\n",
       "      <td>0.919711</td>\n",
       "      <td>0.884790</td>\n",
       "    </tr>\n",
       "    <tr>\n",
       "      <th>2</th>\n",
       "      <td>0.498704</td>\n",
       "      <td>0.610765</td>\n",
       "      <td>0.686734</td>\n",
       "      <td>0.919629</td>\n",
       "      <td>0.517826</td>\n",
       "    </tr>\n",
       "    <tr>\n",
       "      <th>3</th>\n",
       "      <td>0.191565</td>\n",
       "      <td>0.580605</td>\n",
       "      <td>0.491735</td>\n",
       "      <td>0.471335</td>\n",
       "      <td>0.812852</td>\n",
       "    </tr>\n",
       "    <tr>\n",
       "      <th>4</th>\n",
       "      <td>0.645839</td>\n",
       "      <td>0.414506</td>\n",
       "      <td>0.612970</td>\n",
       "      <td>0.904684</td>\n",
       "      <td>0.460321</td>\n",
       "    </tr>\n",
       "    <tr>\n",
       "      <th>...</th>\n",
       "      <td>...</td>\n",
       "      <td>...</td>\n",
       "      <td>...</td>\n",
       "      <td>...</td>\n",
       "      <td>...</td>\n",
       "    </tr>\n",
       "    <tr>\n",
       "      <th>329</th>\n",
       "      <td>0.927882</td>\n",
       "      <td>0.030550</td>\n",
       "      <td>0.375910</td>\n",
       "      <td>0.829439</td>\n",
       "      <td>0.659453</td>\n",
       "    </tr>\n",
       "    <tr>\n",
       "      <th>330</th>\n",
       "      <td>0.516709</td>\n",
       "      <td>0.916112</td>\n",
       "      <td>0.841661</td>\n",
       "      <td>0.050643</td>\n",
       "      <td>0.250240</td>\n",
       "    </tr>\n",
       "    <tr>\n",
       "      <th>331</th>\n",
       "      <td>0.040707</td>\n",
       "      <td>0.756261</td>\n",
       "      <td>0.222748</td>\n",
       "      <td>0.313420</td>\n",
       "      <td>0.419412</td>\n",
       "    </tr>\n",
       "    <tr>\n",
       "      <th>332</th>\n",
       "      <td>0.629214</td>\n",
       "      <td>0.530043</td>\n",
       "      <td>0.417179</td>\n",
       "      <td>0.154244</td>\n",
       "      <td>0.151709</td>\n",
       "    </tr>\n",
       "    <tr>\n",
       "      <th>333</th>\n",
       "      <td>0.225558</td>\n",
       "      <td>0.073868</td>\n",
       "      <td>0.150800</td>\n",
       "      <td>0.292526</td>\n",
       "      <td>0.836530</td>\n",
       "    </tr>\n",
       "  </tbody>\n",
       "</table>\n",
       "<p>334 rows × 5 columns</p>\n",
       "</div>"
      ],
      "text/plain": [
       "            0         1         2         3         4\n",
       "0     0.98764  0.834310  0.912586  0.873162  0.178746\n",
       "1    0.132217  0.596804  0.974222  0.919711  0.884790\n",
       "2    0.498704  0.610765  0.686734  0.919629  0.517826\n",
       "3    0.191565  0.580605  0.491735  0.471335  0.812852\n",
       "4    0.645839  0.414506  0.612970  0.904684  0.460321\n",
       "..        ...       ...       ...       ...       ...\n",
       "329  0.927882  0.030550  0.375910  0.829439  0.659453\n",
       "330  0.516709  0.916112  0.841661  0.050643  0.250240\n",
       "331  0.040707  0.756261  0.222748  0.313420  0.419412\n",
       "332  0.629214  0.530043  0.417179  0.154244  0.151709\n",
       "333  0.225558  0.073868  0.150800  0.292526  0.836530\n",
       "\n",
       "[334 rows x 5 columns]"
      ]
     },
     "execution_count": 54,
     "metadata": {},
     "output_type": "execute_result"
    }
   ],
   "source": [
    "newdf"
   ]
  },
  {
   "cell_type": "code",
   "execution_count": 55,
   "id": "d438c3fb-2de4-42f1-bac2-955f8494b5e9",
   "metadata": {},
   "outputs": [
    {
     "data": {
      "text/html": [
       "<div>\n",
       "<style scoped>\n",
       "    .dataframe tbody tr th:only-of-type {\n",
       "        vertical-align: middle;\n",
       "    }\n",
       "\n",
       "    .dataframe tbody tr th {\n",
       "        vertical-align: top;\n",
       "    }\n",
       "\n",
       "    .dataframe thead th {\n",
       "        text-align: right;\n",
       "    }\n",
       "</style>\n",
       "<table border=\"1\" class=\"dataframe\">\n",
       "  <thead>\n",
       "    <tr style=\"text-align: right;\">\n",
       "      <th></th>\n",
       "      <th>0</th>\n",
       "      <th>1</th>\n",
       "      <th>2</th>\n",
       "      <th>3</th>\n",
       "      <th>4</th>\n",
       "    </tr>\n",
       "  </thead>\n",
       "  <tbody>\n",
       "    <tr>\n",
       "      <th>333</th>\n",
       "      <td>0.225558</td>\n",
       "      <td>0.073868</td>\n",
       "      <td>0.150800</td>\n",
       "      <td>0.292526</td>\n",
       "      <td>0.836530</td>\n",
       "    </tr>\n",
       "    <tr>\n",
       "      <th>332</th>\n",
       "      <td>0.629214</td>\n",
       "      <td>0.530043</td>\n",
       "      <td>0.417179</td>\n",
       "      <td>0.154244</td>\n",
       "      <td>0.151709</td>\n",
       "    </tr>\n",
       "    <tr>\n",
       "      <th>331</th>\n",
       "      <td>0.040707</td>\n",
       "      <td>0.756261</td>\n",
       "      <td>0.222748</td>\n",
       "      <td>0.313420</td>\n",
       "      <td>0.419412</td>\n",
       "    </tr>\n",
       "    <tr>\n",
       "      <th>330</th>\n",
       "      <td>0.516709</td>\n",
       "      <td>0.916112</td>\n",
       "      <td>0.841661</td>\n",
       "      <td>0.050643</td>\n",
       "      <td>0.250240</td>\n",
       "    </tr>\n",
       "    <tr>\n",
       "      <th>329</th>\n",
       "      <td>0.927882</td>\n",
       "      <td>0.030550</td>\n",
       "      <td>0.375910</td>\n",
       "      <td>0.829439</td>\n",
       "      <td>0.659453</td>\n",
       "    </tr>\n",
       "    <tr>\n",
       "      <th>...</th>\n",
       "      <td>...</td>\n",
       "      <td>...</td>\n",
       "      <td>...</td>\n",
       "      <td>...</td>\n",
       "      <td>...</td>\n",
       "    </tr>\n",
       "    <tr>\n",
       "      <th>4</th>\n",
       "      <td>0.645839</td>\n",
       "      <td>0.414506</td>\n",
       "      <td>0.612970</td>\n",
       "      <td>0.904684</td>\n",
       "      <td>0.460321</td>\n",
       "    </tr>\n",
       "    <tr>\n",
       "      <th>3</th>\n",
       "      <td>0.191565</td>\n",
       "      <td>0.580605</td>\n",
       "      <td>0.491735</td>\n",
       "      <td>0.471335</td>\n",
       "      <td>0.812852</td>\n",
       "    </tr>\n",
       "    <tr>\n",
       "      <th>2</th>\n",
       "      <td>0.498704</td>\n",
       "      <td>0.610765</td>\n",
       "      <td>0.686734</td>\n",
       "      <td>0.919629</td>\n",
       "      <td>0.517826</td>\n",
       "    </tr>\n",
       "    <tr>\n",
       "      <th>1</th>\n",
       "      <td>0.132217</td>\n",
       "      <td>0.596804</td>\n",
       "      <td>0.974222</td>\n",
       "      <td>0.919711</td>\n",
       "      <td>0.884790</td>\n",
       "    </tr>\n",
       "    <tr>\n",
       "      <th>0</th>\n",
       "      <td>0.98764</td>\n",
       "      <td>0.834310</td>\n",
       "      <td>0.912586</td>\n",
       "      <td>0.873162</td>\n",
       "      <td>0.178746</td>\n",
       "    </tr>\n",
       "  </tbody>\n",
       "</table>\n",
       "<p>334 rows × 5 columns</p>\n",
       "</div>"
      ],
      "text/plain": [
       "            0         1         2         3         4\n",
       "333  0.225558  0.073868  0.150800  0.292526  0.836530\n",
       "332  0.629214  0.530043  0.417179  0.154244  0.151709\n",
       "331  0.040707  0.756261  0.222748  0.313420  0.419412\n",
       "330  0.516709  0.916112  0.841661  0.050643  0.250240\n",
       "329  0.927882  0.030550  0.375910  0.829439  0.659453\n",
       "..        ...       ...       ...       ...       ...\n",
       "4    0.645839  0.414506  0.612970  0.904684  0.460321\n",
       "3    0.191565  0.580605  0.491735  0.471335  0.812852\n",
       "2    0.498704  0.610765  0.686734  0.919629  0.517826\n",
       "1    0.132217  0.596804  0.974222  0.919711  0.884790\n",
       "0     0.98764  0.834310  0.912586  0.873162  0.178746\n",
       "\n",
       "[334 rows x 5 columns]"
      ]
     },
     "execution_count": 55,
     "metadata": {},
     "output_type": "execute_result"
    }
   ],
   "source": [
    "newdf.sort_index(axis=0,ascending=False)"
   ]
  },
  {
   "cell_type": "code",
   "execution_count": null,
   "id": "f0438325-f4c4-4de7-9d61-1f5dc9c6ac4e",
   "metadata": {},
   "outputs": [],
   "source": []
  }
 ],
 "metadata": {
  "kernelspec": {
   "display_name": "Python 3 (ipykernel)",
   "language": "python",
   "name": "python3"
  },
  "language_info": {
   "codemirror_mode": {
    "name": "ipython",
    "version": 3
   },
   "file_extension": ".py",
   "mimetype": "text/x-python",
   "name": "python",
   "nbconvert_exporter": "python",
   "pygments_lexer": "ipython3",
   "version": "3.12.3"
  }
 },
 "nbformat": 4,
 "nbformat_minor": 5
}
